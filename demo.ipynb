{
 "cells": [
  {
   "cell_type": "code",
   "execution_count": 1,
   "metadata": {
    "collapsed": false
   },
   "outputs": [],
   "source": [
    "from __future__ import division, print_function\n",
    "\n",
    "%matplotlib inline\n",
    "%config InlineBackend.figure_format = \"retina\"\n",
    "\n",
    "from matplotlib import rcParams\n",
    "rcParams[\"savefig.dpi\"] = 100\n",
    "rcParams[\"font.size\"] = 20"
   ]
  },
  {
   "cell_type": "code",
   "execution_count": 2,
   "metadata": {
    "collapsed": false
   },
   "outputs": [
    {
     "name": "stderr",
     "output_type": "stream",
     "text": [
      "/home/dfm/anaconda/lib/python2.7/site-packages/astropy/config/configuration.py:682: ConfigurationMissingWarning: Configuration defaults will be used due to OSError:Could not find unix home directory to search for astropy config dir on None\n",
      "  warn(ConfigurationMissingWarning(msg))\n"
     ]
    }
   ],
   "source": [
    "import os\n",
    "import ketu\n",
    "import numpy as np\n",
    "import matplotlib.pyplot as pl"
   ]
  },
  {
   "cell_type": "code",
   "execution_count": 120,
   "metadata": {
    "collapsed": false
   },
   "outputs": [],
   "source": [
    "campaign = 2\n",
    "epicid = \"205050711\"\n",
    "basepath = \"/export/bbq2/dfm/k2/web\"\n",
    "light_curve_file = os.path.join(basepath, \"lightcurves/c{0}\".format(campaign),\n",
    "                                \"{0}00000/{1}000/ktwo{2}-c{3:02d}_lpd-lc.fits\"\n",
    "                                .format(epicid[:4], epicid[4:6], epicid, campaign))\n",
    "\n",
    "query = dict(\n",
    "    light_curve_file=light_curve_file,\n",
    "    basis_file=os.path.join(basepath, \"elcs/c{0}-norm.h5\".format(campaign)),\n",
    "    catalog_file=os.path.join(basepath, \"catalogs/epic.h5\"),\n",
    "    nbasis=500,\n",
    "    initial_time=2100.,\n",
    "    skip=50,\n",
    "#     initial_time=2015.,\n",
    "#     skip=0,\n",
    "    durations=[0.05, 0.1, 0.2],\n",
    "    min_period=1.,\n",
    "    max_period=20.,\n",
    "    npeaks=2,\n",
    "    # use_gp=False,\n",
    ")"
   ]
  },
  {
   "cell_type": "code",
   "execution_count": 121,
   "metadata": {
    "collapsed": true
   },
   "outputs": [],
   "source": [
    "pipe = ketu.k2.Data(cache=False)\n",
    "pipe = ketu.k2.Likelihood(pipe, cache=False)\n",
    "pipe = ketu.OneDSearch(pipe, cache=True)\n",
    "pipe = ketu.IterativeTwoDSearch(pipe, cache=True)\n",
    "pipe = ketu.Vetter(pipe, cache=True)"
   ]
  },
  {
   "cell_type": "code",
   "execution_count": null,
   "metadata": {
    "collapsed": false
   },
   "outputs": [
    {
     "name": "stdout",
     "output_type": "stream",
     "text": [
      "Querying Data\n",
      "Finished querying Data in 0.62s\n",
      "Querying Likelihood\n",
      "tau = 1.07397460938\n",
      "tau = 1.07397460938\n",
      "Finished querying Likelihood in 27.83s\n",
      "Querying OneDSearch\n",
      "Finished querying OneDSearch in 241.59s\n",
      "Querying IterativeTwoDSearch\n",
      "Finished querying IterativeTwoDSearch in 75.76s"
     ]
    }
   ],
   "source": [
    "r = pipe.query(**query)"
   ]
  },
  {
   "cell_type": "code",
   "execution_count": null,
   "metadata": {
    "collapsed": false
   },
   "outputs": [],
   "source": [
    "lcs = r.model_light_curves\n",
    "[pl.plot(lc.time, lc.flux, \".\") for lc in lcs];"
   ]
  },
  {
   "cell_type": "code",
   "execution_count": null,
   "metadata": {
    "collapsed": false
   },
   "outputs": [],
   "source": [
    "r.peaks"
   ]
  },
  {
   "cell_type": "code",
   "execution_count": null,
   "metadata": {
    "collapsed": false
   },
   "outputs": [],
   "source": [
    "p = r.peaks[0]\n",
    "[pl.plot(lc.time % (p[\"transit_period\"]), lc.flux - lc.predict(), \".\") for lc in lcs]\n",
    "pl.gca().axvline(p[\"transit_t0\"]);\n",
    "pl.xlim(p[\"transit_t0\"]-3, p[\"transit_t0\"]+3)"
   ]
  },
  {
   "cell_type": "code",
   "execution_count": null,
   "metadata": {
    "collapsed": true
   },
   "outputs": [],
   "source": []
  }
 ],
 "metadata": {
  "kernelspec": {
   "display_name": "Python 2",
   "language": "python",
   "name": "python2"
  },
  "language_info": {
   "codemirror_mode": {
    "name": "ipython",
    "version": 2
   },
   "file_extension": ".py",
   "mimetype": "text/x-python",
   "name": "python",
   "nbconvert_exporter": "python",
   "pygments_lexer": "ipython2",
   "version": "2.7.10"
  }
 },
 "nbformat": 4,
 "nbformat_minor": 0
}
