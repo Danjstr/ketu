{
 "cells": [
  {
   "cell_type": "code",
   "execution_count": 1,
   "metadata": {
    "collapsed": false
   },
   "outputs": [],
   "source": [
    "from __future__ import division, print_function\n",
    "\n",
    "%matplotlib inline\n",
    "%config InlineBackend.figure_format = \"retina\"\n",
    "\n",
    "from matplotlib import rcParams\n",
    "rcParams[\"savefig.dpi\"] = 100\n",
    "rcParams[\"font.size\"] = 20"
   ]
  },
  {
   "cell_type": "code",
   "execution_count": 2,
   "metadata": {
    "collapsed": false
   },
   "outputs": [],
   "source": [
    "import os\n",
    "import ketu\n",
    "import numpy as np\n",
    "import matplotlib.pyplot as pl\n",
    "from transit import SimpleSystem"
   ]
  },
  {
   "cell_type": "code",
   "execution_count": 9,
   "metadata": {
    "collapsed": false
   },
   "outputs": [],
   "source": [
    "campaign = 1\n",
    "# epicid = \"201367065\"\n",
    "# epicid = \"201912552\"\n",
    "epicid = \"201386993\"\n",
    "basepath = \"/Users/dfm/data/k2\"\n",
    "light_curve_file = os.path.join(basepath, \"lightcurves/c{0}\".format(campaign),\n",
    "                                \"{0}00000/{1}000/ktwo{2}-c{3:02d}_lpd-lc.fits\"\n",
    "                                .format(epicid[:4], epicid[4:6], epicid, campaign))\n",
    "\n",
    "query = dict(\n",
    "    invert=False,\n",
    "    light_curve_file=light_curve_file,\n",
    "    basis_file=os.path.join(basepath, \"elcs/c{0}-norm.h5\".format(campaign)),\n",
    "    catalog_file=os.path.join(basepath, \"catalogs/epic.h5\"),\n",
    "    nbasis=500,\n",
    "    initial_time=2015.0,\n",
    "    skip=50,\n",
    "    durations=[0.05, 0.1, 0.2],\n",
    "    min_period=1.,\n",
    "    max_period=50.,\n",
    "    npeaks=3,\n",
    "    # injections=[dict(period=5.275, t0=0.45, radius=0.07, b=0.5, q1=0.5, q2=0.5, e=0.01, pomega=0.0)],\n",
    ")"
   ]
  },
  {
   "cell_type": "code",
   "execution_count": 10,
   "metadata": {
    "collapsed": false
   },
   "outputs": [],
   "source": [
    "pipe = ketu.k2.Data(cache=False)\n",
    "# pipe = ketu.k2.Inject(pipe, cache=False)\n",
    "pipe = ketu.k2.Likelihood(pipe, cache=False)\n",
    "pipe = ketu.OneDSearch(pipe, cache=True)\n",
    "# pipe = ketu.TwoDSearch(pipe, cache=False)\n",
    "pipe = ketu.IterativeTwoDSearch(pipe, cache=True)\n",
    "pipe = ketu.Vetter(pipe, cache=True, clobber=True)\n",
    "pipe = ketu.FeatureExtract(pipe, cache=True, clobber=True)"
   ]
  },
  {
   "cell_type": "code",
   "execution_count": null,
   "metadata": {
    "collapsed": false
   },
   "outputs": [
    {
     "name": "stdout",
     "output_type": "stream",
     "text": [
      "Querying Data\n",
      "Finished querying Data in 0.54s\n",
      "Querying Likelihood\n",
      "tau = 8.84741210938\n",
      "tau = 8.88818359375\n",
      "tau = 8.88818359375\n",
      "tau = 8.99200439453\n",
      "tau = 8.96667480469\n",
      "tau = 8.96667480469\n",
      "Finished querying Likelihood in 4.20s"
     ]
    }
   ],
   "source": [
    "r = pipe.query(**query)"
   ]
  },
  {
   "cell_type": "code",
   "execution_count": null,
   "metadata": {
    "collapsed": false
   },
   "outputs": [],
   "source": [
    "lcs = r.model_light_curves\n",
    "[pl.plot(lc.time, lc.flux, \".\") for lc in lcs];"
   ]
  },
  {
   "cell_type": "code",
   "execution_count": null,
   "metadata": {
    "collapsed": false
   },
   "outputs": [],
   "source": [
    "r.peaks"
   ]
  },
  {
   "cell_type": "code",
   "execution_count": null,
   "metadata": {
    "collapsed": false
   },
   "outputs": [],
   "source": [
    "p = r.peaks[0]\n",
    "\n",
    "s = SimpleSystem(period=p[\"transit_period\"],\n",
    "                 t0=p[\"transit_t0\"],\n",
    "                 ror=p[\"transit_ror\"],\n",
    "                 impact=p[\"transit_b\"],\n",
    "                 duration=p[\"transit_duration\"],\n",
    "                 q1=p[\"transit_q1\"],\n",
    "                 q2=p[\"transit_q2\"])\n",
    "\n",
    "[pl.plot(lc.time % (p[\"transit_period\"]), lc.flux - lc.predict(lc.flux - 1e3*(s.light_curve(lc.time)-1.0)), \".\") for lc in lcs]\n",
    "pl.gca().axvline(p[\"transit_t0\"]);\n",
    "pl.xlim(p[\"transit_t0\"]-3, p[\"transit_t0\"]+3)"
   ]
  },
  {
   "cell_type": "code",
   "execution_count": null,
   "metadata": {
    "collapsed": true
   },
   "outputs": [],
   "source": []
  },
  {
   "cell_type": "code",
   "execution_count": null,
   "metadata": {
    "collapsed": true
   },
   "outputs": [],
   "source": []
  }
 ],
 "metadata": {
  "kernelspec": {
   "display_name": "Python 2",
   "language": "python",
   "name": "python2"
  },
  "language_info": {
   "codemirror_mode": {
    "name": "ipython",
    "version": 2
   },
   "file_extension": ".py",
   "mimetype": "text/x-python",
   "name": "python",
   "nbconvert_exporter": "python",
   "pygments_lexer": "ipython2",
   "version": "2.7.10"
  }
 },
 "nbformat": 4,
 "nbformat_minor": 0
}
